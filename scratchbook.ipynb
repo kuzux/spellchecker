{
 "metadata": {
  "name": ""
 },
 "nbformat": 3,
 "nbformat_minor": 0,
 "worksheets": [
  {
   "cells": [
    {
     "cell_type": "code",
     "collapsed": false,
     "input": [
      "from nltk.tokenize import RegexpTokenizer"
     ],
     "language": "python",
     "metadata": {},
     "outputs": [],
     "prompt_number": 1
    },
    {
     "cell_type": "code",
     "collapsed": false,
     "input": [
      "tokenizer = RegexpTokenizer(\"(\\w+'\\w+)|(\\w+)\")\n",
      "\n",
      "words = map(lambda x: x.lower(), tokenizer.tokenize(\"Madam, I'm Adam.\"))"
     ],
     "language": "python",
     "metadata": {},
     "outputs": [],
     "prompt_number": 6
    },
    {
     "cell_type": "code",
     "collapsed": false,
     "input": [
      "import collections"
     ],
     "language": "python",
     "metadata": {},
     "outputs": [],
     "prompt_number": 7
    },
    {
     "cell_type": "code",
     "collapsed": false,
     "input": [
      "def train(words):\n",
      "    res = collections.defaultdict(lambda: 0)\n",
      "    for w in words:\n",
      "        res[w] += 1\n",
      "        \n",
      "    return res\n",
      "\n",
      "train(words)"
     ],
     "language": "python",
     "metadata": {},
     "outputs": [
      {
       "metadata": {},
       "output_type": "pyout",
       "prompt_number": 9,
       "text": [
        "defaultdict(<function <lambda> at 0x3e6c668>, {'madam': 1, \"i'm\": 1, 'adam': 1})"
       ]
      }
     ],
     "prompt_number": 9
    },
    {
     "cell_type": "code",
     "collapsed": false,
     "input": [],
     "language": "python",
     "metadata": {},
     "outputs": []
    }
   ],
   "metadata": {}
  }
 ]
}